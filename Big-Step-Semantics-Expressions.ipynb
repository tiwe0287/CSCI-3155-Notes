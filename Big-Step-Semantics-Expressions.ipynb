{
 "cells": [
  {
   "cell_type": "markdown",
   "metadata": {},
   "source": [
    "# Big Step Semantics For Expressions\n",
    "\n",
    "We have thus far looked at the first eval function for `Expr`  that denote arithmetic expressions.\n",
    "Recall their grammar from the previous lectures:\n",
    "\n",
    "$$\\begin{array}{rcll}\n",
    "\\textbf{Expr} & \\rightarrow & Const(\\textbf{Double}) \\\\\n",
    "& |  & Ident(\\textbf{Identifier}) \\\\\n",
    "& | & Plus( \\textbf{Expr}^+) & \\text{Note:}\\ A^+ \\ \\text{is one or more reps of}\\ A \\\\\n",
    "& | & Minus( \\textbf{Expr}, \\textbf{Expr}^+) \\\\\n",
    "& | & Mult(\\textbf{Expr}^+) \\\\\n",
    "& | & Div(\\textbf{Expr}, \\textbf{Expr}) \\\\\n",
    "& | & Log(\\textbf{Expr}) \\\\\n",
    "& | & Exp(\\textbf{Expr}) \\\\\n",
    "& | & Sine(\\textbf{Expr}) \\\\\n",
    "& | & Cosine(\\textbf{Expr}) \\\\\\\\\n",
    "\\textbf{Double} & \\rightarrow & \\text{all double precision numbers in Scala}\\\\\n",
    "\\textbf{Identifier} & \\rightarrow & [a-zA-Z][a-z\\ A-Z\\ 0-9\\ \\_]* & \\text{Note: All strings that begin with letters}\\\\\n",
    "&&& \\text{a-z or A-Z and subsequently can contain a-z, A-Z, 0-9 or _ chars}\n",
    "\\end{array}$$\n",
    "\n",
    "Next we provided a translation of the very same grammar into scala abstract syntax definitions."
   ]
  },
  {
   "cell_type": "code",
   "execution_count": 1,
   "metadata": {},
   "outputs": [
    {
     "data": {
      "text/plain": [
       "defined \u001b[32mtrait\u001b[39m \u001b[36mExpr\u001b[39m\n",
       "defined \u001b[32mclass\u001b[39m \u001b[36mConst\u001b[39m\n",
       "defined \u001b[32mclass\u001b[39m \u001b[36mIdent\u001b[39m\n",
       "defined \u001b[32mclass\u001b[39m \u001b[36mPlus\u001b[39m\n",
       "defined \u001b[32mclass\u001b[39m \u001b[36mMinus\u001b[39m\n",
       "defined \u001b[32mclass\u001b[39m \u001b[36mMult\u001b[39m\n",
       "defined \u001b[32mclass\u001b[39m \u001b[36mDiv\u001b[39m\n",
       "defined \u001b[32mclass\u001b[39m \u001b[36mLog\u001b[39m\n",
       "defined \u001b[32mclass\u001b[39m \u001b[36mExp\u001b[39m\n",
       "defined \u001b[32mclass\u001b[39m \u001b[36mSine\u001b[39m\n",
       "defined \u001b[32mclass\u001b[39m \u001b[36mCosine\u001b[39m"
      ]
     },
     "execution_count": 1,
     "metadata": {},
     "output_type": "execute_result"
    }
   ],
   "source": [
    "sealed trait Expr\n",
    "case class Const(f: Double) extends Expr \n",
    "// 1. We cheated a bit and allowed all floating point numbers\n",
    "// Also, this deviates from the grammar\n",
    "case class Ident(s: String) extends Expr\n",
    "// 2. We allow any string to be an identifier for now instead of the regular expression shown in the grammar.\n",
    "case class Plus( eList: List[Expr] ) extends Expr\n",
    "case class Minus(e1: Expr, eList: List[Expr]) extends Expr\n",
    "case class Mult(eList: List[Expr]) extends Expr\n",
    "case class Div(e1: Expr, e2: Expr) extends Expr\n",
    "case class Log(e: Expr) extends Expr\n",
    "case class Exp(e: Expr) extends Expr\n",
    "case class Sine(e: Expr) extends Expr\n",
    "case class Cosine(e: Expr) extends Expr"
   ]
  },
  {
   "cell_type": "markdown",
   "metadata": {},
   "source": [
    "We wrote a simple and intuitive function `evalExpr` but how do we talk about what it does? A simple answer is that the code can be read by anyone who knows Scala and therefore can serve to document the meaning of expressions in terms of what they do. This is surely a path to disaster for more complicated languages. It is important therefore to use some kind of notation to explain how to understand the behavior of the `evalExpr` function at a high level and in a language independent fashion. We will use \"big step\" semantics to notate this process and see how the code we have written so far is simply a translation of the big step semantics into code.\n",
    "\n",
    "\n",
    "## Big Step Semantics\n",
    "\n",
    "Let us explain at a high level how an expression of the form \n",
    "\n",
    "`Log(Plus(List(Const(1.0), Mult(List(Const(2.0), Ident(\"y\"))))))` \n",
    "\n",
    "under an environment that assignes `y` to `1.2` gets evaluated to a value `1.2237754316221157`.\n",
    "\n",
    "Without worrying about the order in which things happen, let us act as if we are ourselves working this out.\n",
    "\n",
    "- `Ident(\"y\")` gets evaluated to `1.2`\n",
    "- `Const(2.0)` gets evaluated to `2.0`\n",
    "- `Mult(List(Const(2.0), Ident(\"y\")))` can now get evaluated to `2.0 * 1.2 = 2.4` since each of its children have been evaluated\n",
    "- `Const(1.0)` gets evaluated to `1.0`.\n",
    "- `Plus(List(Const(1.0) , Mult(List(Const(2.0), Ident(\"y\")))` can be evaluated to `1.0 + 2.4` and thus to 3.4\n",
    "- `Log(...)` evaluates to $\\log(3.4) = 1.223775...$.\n",
    "\n",
    "What are the things we notice in this process?\n",
    "\n",
    "- Every rule takes an expression and tells us what it evaluates to.\n",
    "- The environment mapping variables to values is an input to this process and remains unchanged throughout.\n",
    "- The result of every evaluation is a double precision number.\n",
    "- Simple leaf expressions like `Const(f)` and `Identifier(y)` are evaluated directy to the double precision numbers either as the number `f` or whatever value the identifier `y` is mapped to in the given environment.\n",
    "- For any other expression using construtors `Plus`, `Minus`, `Mult`, `Div`, ..., if the children evaluate to double precision numbers, then the expression itself is ready to evaluate by applying the appropriate arithmetic operator on the values of its children.\n",
    "\n",
    "These observations are tedious to write down in english. We can provide a more succinct way to write it down using a notation:  $\\sigma \\vdash e \\Downarrow d$.\n",
    "\n",
    "$$ \\underset{ \\text{Under environment}\\ \\sigma }{\\underbrace{\\sigma}} \\vdash \\underset{\\text{the expression}\\ e\\ \\text{evaluates to the value}\\ d}{\\underbrace{e \\Downarrow d}} $$ \n",
    "\n",
    "It looks fancy. All it is a way of succinctly saying that \"under the enviroment $\\sigma$, the expression $e$ evaluates to the value $d$\". \n",
    "\n",
    "### Examples\n",
    "\n",
    "- $ \\{y \\mapsto 1.0 \\}\\ \\vdash\\ \\texttt{Ident(\"y\")}\\ \\Downarrow\\ 1.0 $\n",
    "- $ \\{ y \\mapsto 1.0 \\}\\ \\vdash\\ \\texttt{Mult(List(Const(1.2), Const(1.2)))}\\ \\Downarrow\\ 1.44 $.\n",
    "- $ \\{y \\mapsto 1.0 \\} \\ \\vdash\\ \\texttt{Plus(List(Const(1.0) , Mult(List(Const(2.0), Ident(\"y\")))}\\ \\Downarrow\\ 3.4 $\n",
    "\n",
    "\n",
    "## Inference Rules\n",
    "\n",
    "The value in the entire process is not in realizing individual instances such as \n",
    "\n",
    "$$ \\{y \\mapsto 1.0 \\} \\ \\vdash\\ \\texttt{Log(Plus(List(Const(1.0) , Mult(List(Const(2.0), Ident(\"y\"))))}\\ \\Downarrow\\ 1.223775.. $$\n",
    "\n",
    "but in specifying how one systematically arrives at the result. If that is understood, then writing an interpreter is a cinch. Also, the rules will specify exactly how we will go about the process.\n",
    "\n",
    "Inference rules are always written like this.\n",
    "\n",
    "$$\\begin{array}{c}\n",
    "\\text{premises that must hold} \\\\\n",
    "\\hline\n",
    "\\text{conclusions that can be drawn} \\\\\n",
    "\\end{array}$$\n",
    "\n",
    "It must be read as __assuming premises must hold, then conclusion must hold__.\n",
    "\n",
    "As an example, let us see a rule for `Log`:\n",
    "\n",
    "$$\\begin{array}{c}\n",
    "\\sigma \\vdash \\texttt{e} \\Downarrow c \\\\\n",
    "\\hline \n",
    "\\sigma \\vdash \\texttt{Log(e)}\\Downarrow \\log(c) \\\\\n",
    "\\end{array}\\ \\text{(Log)}$$\n",
    "\n",
    "The rule says:\n",
    "- Assume: \"under the environment $\\sigma$, some expression `e` evaluates to $c$\"\n",
    "- Conclude: \"under the environment $\\sigma$, the expression `Log(e)` evalutes to $\\log(c)$\"\n",
    "\n",
    "#### Basic Inference Rules\n",
    "\n",
    "Let us actually dive into some basic inference rules:\n",
    "\n",
    "$$ \\begin{array}{c}\n",
    "\\\\\n",
    "\\hline\n",
    "\\sigma\\ \\vdash\\ \\texttt{Const(f)} \\Downarrow f \\\\\n",
    "\\end{array}\\ \\text{(Const)} $$\n",
    "\n",
    "First note that the premises are empty, so no assumptions are needed for the conclusion.\n",
    "The inference rule above simply says the following:\n",
    "- Under any environment $\\sigma$, the expression `Const(f)` evaluates to `f`.\n",
    "\n",
    "Another basic inference rule is \n",
    "\n",
    "$$ \\begin{array}{c}\n",
    "\\\\\n",
    "\\hline\n",
    "\\sigma\\ \\vdash\\ \\texttt{Ident(s)} \\Downarrow \\sigma(s)\\\\\n",
    "\\end{array}\\ \\text{(Variable)} $$\n",
    "\n",
    "Under any environment $\\sigma$, the expression `Ident(s)` evaluates to $\\sigma(s)$. But the reader may object:\n",
    "what is $\\sigma$, what is $\\sigma(s)$ and what do we do if $\\sigma$ does not have a value for $s$. These\n",
    "are great questions. To resolve them, we must say what an environment is.\n",
    "\n",
    "### Environments\n",
    "\n",
    "An environment is a partial function from names of identifiers to their values.\n",
    "- Let $Domain(\\sigma)$ be the set of all variables defined in an environment.\n",
    "- Let $\\sigma(s)$ be the value mapped to by identifier $s$ if $s \\in Domain(\\sigma)$.\n",
    "\n",
    "\n",
    "### Basic Inferences (Continued)\n",
    "\n",
    "Resuming where we left off, we will now provide a refined rule \n",
    "\n",
    "$$\\begin{array}{c}\n",
    "s \\in \\text{Domain}(\\sigma)\\\\\n",
    "\\hline\n",
    "\\sigma \\vdash \\texttt{Ident(s)} \\Downarrow \\sigma(s) \\\\\n",
    "\\end{array}\\ (\\text{Ident})$$\n",
    "\n",
    "Can you read this rule aloud for us?\n",
    "\n",
    "- Premise: the identifier $s$ belongs to $\\text{Domain}(\\sigma)$\n",
    "- Conclusion: $\\sigma \\vdash \\texttt{Ident(s)} \\Downarrow \\sigma(s)$\n",
    "\n",
    "What about a rule for  $s \\not \\in \\text{Domain}(\\sigma)$? Let us take a raincheck for a few minutes and get back to it\n",
    "at our own pleasure.\n",
    "\n",
    "### Compound Inference\n",
    "\n",
    "Now that we have the basic rules for constants and identifiers, how do we proceed for the rest?\n",
    "\n",
    "#### Plus\n",
    "\n",
    "$$\\begin{array}{c}\n",
    "\\sigma\\vdash \\texttt{e1}\\Downarrow c_1,\\ \\sigma\\vdash \\texttt{e2}\\Downarrow c_2,\\ \\cdots,\\ \\sigma\\vdash \\texttt{em}\\Downarrow c_m \\\\\n",
    "\\hline\n",
    "\\sigma\\vdash \\texttt{Plus(List(e1,e2,..., em))}\\Downarrow (c_1 + c_2 + \\cdots + c_m) \\\\\n",
    "\\end{array} (\\text{Plus}) $$\n",
    "\n",
    "\n",
    "#### Minus\n",
    "\n",
    "$$\\begin{array}{c}\n",
    "\\sigma\\vdash \\texttt{e1}\\Downarrow c_1,\\ \\sigma\\vdash \\texttt{e2}\\Downarrow c_2,\\ \\cdots,\\ \\sigma\\vdash \\texttt{em}\\Downarrow c_m \\\\\n",
    "\\hline\n",
    "\\sigma\\vdash \\texttt{Minus(e1, List(e2,..., em))}\\Downarrow (c_1 - c_2 - \\cdots - c_m) \\\\\n",
    "\\end{array} (\\text{Minus}) $$\n",
    "\n",
    "#### Multiplication\n",
    "\n",
    "$$\\begin{array}{c}\n",
    "\\sigma\\vdash \\texttt{e1}\\Downarrow c_1,\\ \\sigma\\vdash \\texttt{e2}\\Downarrow c_2,\\ \\cdots,\\ \\sigma\\vdash \\texttt{em}\\Downarrow c_m \\\\\n",
    "\\hline\n",
    "\\sigma\\vdash \\texttt{Mult(List(e1,e2,..., em))}\\Downarrow (c_1 \\times c_2 \\times \\cdots \\times c_m) \\\\\n",
    "\\end{array} (\\text{Mult}) $$\n",
    "\n",
    "#### Division\n",
    "\n",
    "$$\\begin{array}{c}\n",
    "\\sigma\\vdash \\texttt{e1}\\Downarrow c_1,\\ \\sigma\\vdash \\texttt{e2}\\Downarrow c_2,\\ c_2 \\not= 0\\\\\n",
    "\\hline\n",
    "\\sigma\\vdash \\texttt{Div(e1, e2)}\\Downarrow (\\frac{c_1}{c_2} ) \\\\\n",
    "\\end{array} (\\text{Div}) $$\n",
    "\n",
    "Note the premise that $c_2 \\not= 0$. What happens if $c_2 = 0$? We will need to specify that under error handling.\n",
    "\n",
    "\n",
    "#### Other Rules\n",
    "We already saw an example for `Log`. Let's refine it by adding the condition that the argument of `Log` must always be positive.\n",
    "$$\\begin{array}{c}\n",
    "\\sigma \\vdash \\texttt{e} \\Downarrow c,\\ {c > 0} \\\\\n",
    "\\hline \n",
    "\\sigma \\vdash \\texttt{Log(e)}\\Downarrow \\log(c) \\\\\n",
    "\\end{array}\\ \\text{(Log)}$$\n",
    "\n",
    "Rather than a rule for each of  Exp, Sine, Cosine: we can provide a single \"rule template\"  -- a sort of macro that can be used for each of these rules? \n",
    "\n",
    "Before we do that let us define an association of each of these constructors with the functions they represent. Though it is obvious to us from the naming, it is not so to a computer. Therefore, we must pretend ignorance and specify the same.\n",
    "\n",
    "$$ f_{\\texttt{Exp}}(x) = e^x,\\ f_{\\texttt{Sine}}(x) = \\sin(x),\\ f_{\\texttt{Cosine}}(x) = \\cos(x) $$. \n",
    "\n",
    "$$\\begin{array}{c}\n",
    "\\sigma \\vdash \\texttt{e} \\Downarrow c, T \\in \\{ \\texttt{Exp}, \\texttt{Sine}, \\texttt{Cosine} \\} \\\\\n",
    "\\hline\n",
    "\\sigma \\vdash \\texttt{T(e)}\\Downarrow f_{\\texttt{T}}(c)\n",
    "\\end{array} (\\text{InBuilt-Function-Application})$$\n",
    "\n",
    "## Handling Error\n",
    "\n",
    "Semantics is necessary not just to define the correct cases, but also to inform us what to do if there is an error.\n",
    "Often, we can distinguish between the types of errors that we would like to handle such as `DivideByZero`, `UndefinedVariable`, and `IllegalArgument`. Here, we will just define one error type __error__.\n",
    "\n",
    "So far, expressions could just take a value that was a double precision. We now augment it to take either \n",
    "a double precision value or a special value called __error__.\n",
    "\n",
    "The rules for producing double precision values have already been seen and recalled below once more.\n",
    "We will augment these rules to say that there is no error involved. The changes to the premises are underlined.\n",
    "They mostly involve saying things like $c_i \\in \\mathbb{R}$ (i.e, a value $c_i$ is a real number).\n",
    "\n",
    "$$ \\begin{array}{c}\n",
    "\\\\\n",
    "\\hline\n",
    "\\sigma\\ \\vdash\\ \\texttt{Const(c)} \\Downarrow c \\\\\n",
    "\\end{array}\\ \\text{(Const)} $$\n",
    "\n",
    "$$\\begin{array}{c}\n",
    "s \\in \\text{Domain}(\\sigma)\\\\\n",
    "\\hline\n",
    "\\sigma \\vdash \\texttt{Ident(s)} \\Downarrow \\sigma(s) \\\\\n",
    "\\end{array}\\ (\\text{Ident})$$\n",
    "\n",
    "$$\\begin{array}{c}\n",
    "\\sigma\\vdash \\texttt{e1}\\Downarrow c_1,\\ \\sigma\\vdash \\texttt{e2}\\Downarrow c_2,\\ \\cdots,\\ \\sigma\\vdash \\texttt{em}\\Downarrow c_m,\\  \\underline{c_1\\in \\mathbb{R}, \\ldots, c_m \\in \\mathbb{R}}\\\\\n",
    "\\hline\n",
    "\\sigma\\vdash \\texttt{Plus(List(e1,e2,..., em))}\\Downarrow (c_1 + c_2 + \\cdots + c_m) \\\\\n",
    "\\end{array} (\\text{Plus}) $$\n",
    "\n",
    "$$\\begin{array}{c}\n",
    "\\sigma\\vdash \\texttt{e1}\\Downarrow c_1,\\ \\sigma\\vdash \\texttt{e2}\\Downarrow c_2,\\ \\cdots,\\ \\sigma\\vdash \\texttt{em}\\Downarrow c_m,\\; \\underline{c_1\\in \\mathbb{R}, \\ldots, c_m \\in \\mathbb{R}} \\\\\n",
    "\\hline\n",
    "\\sigma\\vdash \\texttt{Minus(e1, List(e2,..., em))}\\Downarrow (c_1 - c_2 - \\cdots - c_m) \\\\\n",
    "\\end{array} (\\text{Minus}) $$\n",
    "\n",
    "$$\\begin{array}{c}\n",
    "\\sigma\\vdash \\texttt{e1}\\Downarrow c_1,\\ \\sigma\\vdash \\texttt{e2}\\Downarrow c_2,\\ \\cdots,\\ \\sigma\\vdash \\texttt{em}\\Downarrow c_m,\\; \\underline{c_1\\in \\mathbb{R}, \\ldots, c_m \\in \\mathbb{R}} \\\\\n",
    "\\hline\n",
    "\\sigma\\vdash \\texttt{Mult(List(e1,e2,..., em))}\\Downarrow (c_1 \\times c_2 \\times \\cdots \\times c_m) \\\\\n",
    "\\end{array} (\\text{Mult}) $$\n",
    "\n",
    "$$\\begin{array}{c}\n",
    "\\sigma\\vdash \\texttt{e1}\\Downarrow c_1,\\ \\sigma\\vdash \\texttt{e2}\\Downarrow c_2,\\ \\underline{c_1 \\in \\mathbb{R}, c_2 \\in \\mathbb{R}},\\ c_2 \\not= 0\\\\\n",
    "\\hline\n",
    "\\sigma\\vdash \\texttt{Div(e1, e2)}\\Downarrow (\\frac{c_1}{c_2} ) \\\\\n",
    "\\end{array} (\\text{Div}) $$\n",
    "\n",
    "$$\\begin{array}{c}\n",
    "\\sigma \\vdash \\texttt{e} \\Downarrow c,\\ \\underline{c \\in \\mathbb{R}},\\ {c > 0} \\\\\n",
    "\\hline \n",
    "\\sigma \\vdash \\texttt{Log(e)}\\Downarrow \\log(c) \\\\\n",
    "\\end{array}\\ \\text{(Log)}$$\n",
    "\n",
    "$$\\begin{array}{c}\n",
    "\\sigma \\vdash \\texttt{e} \\Downarrow c, \\underline{c \\in \\mathbb{R}},\\ T \\in \\{ \\texttt{Exp}, \\texttt{Sine}, \\texttt{Cosine} \\} \\\\\n",
    "\\hline\n",
    "\\sigma \\vdash \\texttt{T(e)}\\Downarrow f_{\\texttt{T}}(c)\n",
    "\\end{array} (\\text{InBuilt-Function-Application})$$\n",
    "\n",
    "How about __error__? First we will summarize all situations that can produce a value __error__.\n",
    "\n",
    "$$ \\begin{array}{c}\n",
    " s \\not\\in \\text{Domain}(\\sigma) \\\\\n",
    " \\hline\n",
    " \\sigma \\vdash \\texttt{Ident(s)}\\Downarrow \\mathbf{error} \\\\\n",
    " \\end{array} (\\text{Ident-ERROR}) $$\n",
    "\n",
    "Other situations are also easy to see:\n",
    "\n",
    "$$\\begin{array}{c}\n",
    "\\sigma\\vdash \\texttt{e1}\\Downarrow c_1,\\ \\sigma\\vdash \\texttt{e2}\\Downarrow c_2,\\ {c_1 \\in \\mathbb{R}, c_2 \\in \\mathbb{R}},\\ c_2 = 0\\\\\n",
    "\\hline\n",
    "\\sigma\\vdash \\texttt{Div(e1, e2)}\\Downarrow \\mathbf{error} \\\\\n",
    "\\end{array} (\\text{Div-ERROR}) $$\n",
    "\n",
    "Another situation that comes to mind is `Log`.\n",
    "\n",
    "\n",
    "$$\\begin{array}{c}\n",
    "\\sigma \\vdash \\texttt{e} \\Downarrow c,\\ {c \\in \\mathbb{R}},\\ {c \\leq 0} \\\\\n",
    "\\hline \n",
    "\\sigma \\vdash \\texttt{Log(e)}\\Downarrow \\mathbf{error} \\\\\n",
    "\\end{array}\\ \\text{(Log-ERROR)}$$\n",
    "\n",
    "Now we need to write rules that say that once any child of an expression evaluates to an __error__ the expression itself evaluates to an error. This is very cumbersome to do in its fullest exquisite detail. Therefore, we will say so using appropriate notation to help us.\n",
    "\n",
    "Let us define the set of a __subterms__ of a given term inductively.\n",
    "- For expressions $e$ of the form `Plus(List(e1, ..., em))`, `Minus(e1, List(e2, ..., em))`, and\n",
    "`Mult(List(e1, ..., em))`: \n",
    "   $$ \\text{subterm(e)} = \\{ \\texttt{e1}, \\ldots, \\texttt{em} \\} \\cup  \\text{subterm}(\\texttt{e1}) \\cup \\text{subterm}(\\texttt{e2}) \\cdots \\cup \\text{subterm}(\\texttt{em})$$.\n",
    "- For expressions $e$ of the form `Div(e1, e2)`, \n",
    "$$ \\text{subterm}(e) = \\{ \\texttt{e1}, \\texttt{e2} \\} \\cup  \\text{subterm}(\\texttt{e1}) \\cup \\text{subterm}(\\texttt{e2}) $$.\n",
    "- For expressions $e$ of the form `T(e1)` where `T` can be `Log, Sine, Cosine, Exp`:\n",
    "$$\\text{subterm}(e) = \\{ \\texttt{e1} \\} \\cup \\text{subterm}(\\texttt{e1})$$\n",
    "\n",
    "__Example:__ Using the definintion, we can show that \n",
    "- subterm(`Plus(List(Const(1.0) , Mult(List(Const(2.0), Ident(\"y\")))`) is the set { `Const(1.0)`, `Mult(List(Const(2.0), Ident(\"y\")))`, `Const(2.0)`, `Ident(\"y\")` }\n",
    "\n",
    "\n",
    "Now we can write a single rule to deal with __error__:\n",
    "\n",
    "$$\\begin{array}{c}\n",
    "\\sigma \\vdash \\texttt{e1} \\Downarrow \\mathbf{error},\\ \\texttt{e1} \\in \\text{subterm}(e) \\\\\n",
    "\\hline\n",
    "\\sigma \\vdash \\texttt{e} \\Downarrow \\mathbf{error} \\end{array} (\\text{Subterm-ERROR})  $$\n",
    "\n",
    "Let's interpret this rule:\n",
    "- Premise: under environment $\\sigma$ the expression `e1` evaluates to __error__ and `e1` is a subterm of `e`.\n",
    "- Conclusion: under environment $\\sigma$ the expression `e` evalutes to __error__.\n",
    "\n",
    "The bigstep semantics now clarify how some ambiguous function situations are to be handled.  \n",
    "\n",
    "### Example \n",
    "\n",
    "- Consider the expression `Mult( List( Const(0.0), Div(Const(1.0), Const(0.0))))`. We are tempted to  perform a `short circuit rule` as follows:\n",
    "\n",
    "$$\\begin{array}{c}\n",
    "\\sigma\\ \\vdash\\ \\texttt{e1} \\Downarrow 0.0,\\\\\n",
    "\\hline\n",
    "\\sigma\\ \\vdash\\ \\texttt{Mult(e1, e2, ..., em)} \\Downarrow 0.0 \\end{array} (\\text{Shortciruit-Mult})$$\n",
    "\n",
    "\n",
    "This says that whenever the first argument of multiplication is a zero, let us short circuit the entire computation to zero without even examining them. As you can see this leads to a big problem. What if one of the unexamined terms\n",
    "causes an error? One can easily slip in such a statement in code for `evalExpr` and no one is any the wiser. The contradiction is only evident when\n",
    "we take the effort to write the big step semantics.\n",
    "\n",
    "\n",
    "- What about short circuiting error?\n",
    "\n",
    "$$ \\begin{array}{c}\n",
    "\\sigma\\ \\vdash\\ \\texttt{e1} \\Downarrow \\mathbf{error},\\\\\n",
    "\\hline\n",
    "\\sigma\\ \\vdash\\ \\texttt{Mult(e1, e2, ..., em)} \\Downarrow \\mathbf{error} \\end{array} (\\text{Shortciruit-Mult-ERROR})$$\n",
    "\n",
    "This is subsumed by the Subterm-ERROR rule already stated. In fact, throwing an exception upon encountering an error seems consistent with the semantics written here especially if we map that exception to the value __error__. This will be entirely consistent with the Subterm-ERROR rule that states that if any subterm evaluates to __error__ the expression as a whole also evaluates to an error.\n",
    "\n",
    "\n",
    "\n",
    "\n",
    "## From Big-Step Semantics To Code\n",
    "\n",
    "Note that while big-step semantics are very good at expressing how expressions evaluate to their intended values at a high level, it is not good in expressing issues such as \n",
    "- What is the order of evaluation? For instance we would like to say that if we have an expression `Plus(List(e1,..., em))` we evalute this from left to right, starting with `e1` and ending at `em`.\n",
    "- How do we deal with _side effects? (currently there are no side effects) and so this aspect of our discussion needs to await a future lecture.\n",
    "\n",
    "To nail down such issues, we may have to give something called _small step semantics_. However, we will skip small step semantics for now and await such a time when our language has some side effects and mutation, which are both non-issues at present.\n",
    "\n",
    "For now, let us see how the semantics we have expressed thus far can be translated faithfully into code. Let us make this methodical. We first systematically capture the possible values that an expression can produce. These include the special value `Error` or a `Number`"
   ]
  },
  {
   "cell_type": "code",
   "execution_count": null,
   "metadata": {},
   "outputs": [],
   "source": [
    "CondExpr => | True \n",
    "            | False \n",
    "            | And(CondExpr, CondExpr)\n",
    "            | Not()\n",
    "            | Eq"
   ]
  },
  {
   "cell_type": "code",
   "execution_count": 2,
   "metadata": {},
   "outputs": [
    {
     "data": {
      "text/plain": [
       "defined \u001b[32mtrait\u001b[39m \u001b[36mValue\u001b[39m\n",
       "defined \u001b[32mobject\u001b[39m \u001b[36mError\u001b[39m\n",
       "defined \u001b[32mclass\u001b[39m \u001b[36mNumber\u001b[39m"
      ]
     },
     "execution_count": 2,
     "metadata": {},
     "output_type": "execute_result"
    }
   ],
   "source": [
    "sealed trait Value\n",
    "case object Error extends Value\n",
    "case class Number(c: Double) extends Value"
   ]
  },
  {
   "cell_type": "markdown",
   "metadata": {},
   "source": [
    "First we define some convenient functions to compute expected operations over the newly defined values."
   ]
  },
  {
   "cell_type": "code",
   "execution_count": 25,
   "metadata": {},
   "outputs": [
    {
     "name": "stdout",
     "output_type": "stream",
     "text": [
      "Number(1.0)\n",
      "Number(-17.5)\n"
     ]
    },
    {
     "data": {
      "text/plain": [
       "defined \u001b[32mfunction\u001b[39m \u001b[36moperate\u001b[39m\n",
       "defined \u001b[32mfunction\u001b[39m \u001b[36mplusValue\u001b[39m\n",
       "defined \u001b[32mfunction\u001b[39m \u001b[36mminusValue\u001b[39m\n",
       "defined \u001b[32mfunction\u001b[39m \u001b[36mmultValue\u001b[39m\n",
       "defined \u001b[32mfunction\u001b[39m \u001b[36mdivValue\u001b[39m\n",
       "defined \u001b[32mfunction\u001b[39m \u001b[36mlogValue\u001b[39m\n",
       "defined \u001b[32mfunction\u001b[39m \u001b[36mexpValue\u001b[39m\n",
       "defined \u001b[32mfunction\u001b[39m \u001b[36msineValue\u001b[39m\n",
       "defined \u001b[32mfunction\u001b[39m \u001b[36mcosineValue\u001b[39m"
      ]
     },
     "execution_count": 25,
     "metadata": {},
     "output_type": "execute_result"
    }
   ],
   "source": [
    "\n",
    "def operate(vals: List[Value], f: (Double,Double) => Double,  default: Value = Number(0.0)): Value = {\n",
    "    vals.foldLeft[Value] (default) {\n",
    "        case (Error, _) => Error\n",
    "        case (_, Error) => Error\n",
    "        case (Number(c1), Number(c2)) => Number(f(c1, c2))\n",
    "    }\n",
    "}\n",
    "\n",
    "// READ about foldLeft[T] here: \n",
    "//      https://oldfashionedsoftware.com/2009/07/10/scala-code-review-foldleft-and-foldright/\n",
    " \n",
    "def plusValue (vals: List[Value]): Value = operate(vals, (x:Double ,y: Double) => (x+y))\n",
    "\n",
    "def minusValue(val0: Value, vals: List[Value]) = val0 match {\n",
    "    case Error => Error\n",
    "    case Number(c1) => { val v2 = plus(vals); \n",
    "                          v2 match { \n",
    "                              case Error => Error\n",
    "                              case Number(c2) => Number(c1 - c2) \n",
    "                          }\n",
    "                       }\n",
    "}\n",
    "\n",
    "def multValue(vals: List[Value]) = operate(vals, (x: Double, y:Double) => (x*y), Number(1.0))\n",
    "\n",
    "def divValue(val0: Value, val1: Value) = (val0, val1) match {\n",
    "    case (Error, _) => Error\n",
    "    case (_, Error ) => Error\n",
    "    case (_ , Number(c2)) if c2 == 0.0 => Error\n",
    "    case (Number(c1), Number(c2)) => Number(c1/c2)\n",
    "}\n",
    "\n",
    "def logValue(val0: Value): Value = val0 match {\n",
    "    case Error => Error\n",
    "    case Number(c1) if c1 > 0.0 => Number( math.log(c1) )\n",
    "    case _ => Error\n",
    "}\n",
    "\n",
    "def expValue(val0: Value): Value = val0 match {\n",
    "    case Error => Error\n",
    "    case Number(c1)  => Number( math.exp(c1) )\n",
    "}\n",
    "\n",
    "def sineValue(val0: Value): Value = val0 match {\n",
    "    case Error => Error\n",
    "    case Number(c1)  => Number( math.sin(c1) )\n",
    "}\n",
    "\n",
    "def cosineValue(val0: Value): Value = val0 match {\n",
    "    case Error => Error\n",
    "    case Number(c1)  => Number( math.cos(c1) )\n",
    "}\n",
    "\n",
    "println(plusValue( List(Number(2.0), Number(3.5), Number(-5.0), Number(0.5) ) ))\n",
    "println(multValue( List(Number(2.0), Number(3.5), Number(-5.0), Number(0.5) ) ))\n",
    "\n"
   ]
  },
  {
   "cell_type": "code",
   "execution_count": 22,
   "metadata": {},
   "outputs": [
    {
     "data": {
      "text/plain": [
       "defined \u001b[32mfunction\u001b[39m \u001b[36mevalExpr\u001b[39m"
      ]
     },
     "execution_count": 22,
     "metadata": {},
     "output_type": "execute_result"
    }
   ],
   "source": [
    "def evalExpr (e: Expr, env: Map[String, Double]): Value = e match {\n",
    "    \n",
    "    case Const (f) => Number(f)\n",
    "    \n",
    "    case Ident (str) => { if (env.contains(str)){\n",
    "                                Number( env(str) ) \n",
    "                            } else {\n",
    "                                Error \n",
    "                            }\n",
    "                        }\n",
    "    \n",
    "    case Plus(eList) => {\n",
    "        val allVals: List[Value] = eList map {evalExpr(_, env)} \n",
    "        plusValue (allVals)\n",
    "    }\n",
    "    \n",
    "    case Minus(e, eList) => {\n",
    "        val allVals: List[Value] = eList map {evalExpr(_, env)}\n",
    "        val v0 = evalExpr(e, env)\n",
    "        minusValue (v0, allVals)\n",
    "    }\n",
    "    \n",
    "    case Mult(eList) => {\n",
    "        val allVals: List[Value] = eList map {evalExpr(_, env)} \n",
    "        multValue (allVals)\n",
    "    }\n",
    "    \n",
    "    case Div(e1, e2) => {\n",
    "        divValue ( (evalExpr(e1, env)),  (evalExpr(e2, env)) )\n",
    "    }\n",
    "    \n",
    "    case Log(e) => logValue(evalExpr(e, env))\n",
    "    \n",
    "    \n",
    "    case Exp(e) => expValue( evalExpr(e, env))\n",
    "    \n",
    "    case Sine(e) => sineValue( evalExpr(e, env))\n",
    "    \n",
    "    case Cosine(e) => cosineValue(evalExpr(e, env))\n",
    "}"
   ]
  },
  {
   "cell_type": "code",
   "execution_count": 23,
   "metadata": {},
   "outputs": [
    {
     "data": {
      "text/plain": [
       "\u001b[36mmyEnvironment\u001b[39m: \u001b[32mMap\u001b[39m[\u001b[32mString\u001b[39m, \u001b[32mDouble\u001b[39m] = \u001b[33mMap\u001b[39m(\u001b[32m\"x\"\u001b[39m -> \u001b[32m2.0\u001b[39m, \u001b[32m\"y\"\u001b[39m -> \u001b[32m1.5\u001b[39m, \u001b[32m\"Zzz\"\u001b[39m -> \u001b[32m2.8\u001b[39m, \u001b[32m\"l\"\u001b[39m -> \u001b[32m129.3\u001b[39m, \u001b[32m\"w\"\u001b[39m -> \u001b[32m15.2\u001b[39m)"
      ]
     },
     "execution_count": 23,
     "metadata": {},
     "output_type": "execute_result"
    }
   ],
   "source": [
    "val myEnvironment: Map[String, Double] = Map(\"x\" -> 2.0, \"y\" -> 1.5, \"Zzz\" -> 2.8, \"w\" -> 15.2, \"l\" -> 129.3)"
   ]
  },
  {
   "cell_type": "code",
   "execution_count": 14,
   "metadata": {},
   "outputs": [
    {
     "data": {
      "text/plain": [
       "\u001b[36mx\u001b[39m: \u001b[32mIdent\u001b[39m = \u001b[33mIdent\u001b[39m(\u001b[32m\"x\"\u001b[39m)\n",
       "\u001b[36my\u001b[39m: \u001b[32mIdent\u001b[39m = \u001b[33mIdent\u001b[39m(\u001b[32m\"y\"\u001b[39m)\n",
       "\u001b[36mz\u001b[39m: \u001b[32mIdent\u001b[39m = \u001b[33mIdent\u001b[39m(\u001b[32m\"Zzz\"\u001b[39m)\n",
       "\u001b[36mexpr1\u001b[39m: \u001b[32mPlus\u001b[39m = Plus(List(Cosine(Ident(x)), Sine(Ident(y)), Exp(Minus(Ident(x),List(Ident(y), Ident(Zzz))))))"
      ]
     },
     "execution_count": 14,
     "metadata": {},
     "output_type": "execute_result"
    }
   ],
   "source": [
    "val x = Ident(\"x\")\n",
    "val y = Ident(\"y\")\n",
    "val z = Ident(\"Zzz\")\n",
    "val expr1 = Plus(List(Cosine(x), Sine(y), Exp(Minus(x, List(y,z)))))"
   ]
  },
  {
   "cell_type": "code",
   "execution_count": 26,
   "metadata": {},
   "outputs": [
    {
     "data": {
      "text/plain": [
       "\u001b[36mres25\u001b[39m: \u001b[32mValue\u001b[39m = Number(0.6816069937797158)"
      ]
     },
     "execution_count": 26,
     "metadata": {},
     "output_type": "execute_result"
    }
   ],
   "source": [
    "evalExpr(expr1, myEnvironment)"
   ]
  },
  {
   "cell_type": "code",
   "execution_count": 27,
   "metadata": {},
   "outputs": [
    {
     "data": {
      "text/plain": [
       "\u001b[36mw\u001b[39m: \u001b[32mIdent\u001b[39m = \u001b[33mIdent\u001b[39m(\u001b[32m\"w\"\u001b[39m)\n",
       "\u001b[36mexpr2\u001b[39m: \u001b[32mPlus\u001b[39m = Plus(List(Exp(Const(1.5)), Sine(Const(2.0)), Cosine(Mult(List(Const(1.2), Const(2.4))))))\n",
       "\u001b[36mexpr3\u001b[39m: \u001b[32mDiv\u001b[39m = Div(Minus(Plus(List(Ident(w), Mult(List(Ident(x), Ident(y))), Plus(List(Const(1.2), Ident(w))))),List(Const(1.5), Ident(w), Ident(x))),Const(2.3))"
      ]
     },
     "execution_count": 27,
     "metadata": {},
     "output_type": "execute_result"
    }
   ],
   "source": [
    "val w = Ident(\"w\")\n",
    "val expr2 = Plus(List(Exp(Const(1.5)), Sine(Const(2.0)), Cosine(Mult(List(Const(1.2), Const(2.4))))))\n",
    "val expr3 = Div(Minus( Plus(List(w, Mult(List(x, y)), Plus(List(Const(1.2), w))) ), List(Const(1.5), w, x) ), Const(2.3))\n"
   ]
  },
  {
   "cell_type": "code",
   "execution_count": 28,
   "metadata": {},
   "outputs": [
    {
     "data": {
      "text/plain": [
       "\u001b[36mres27\u001b[39m: \u001b[32mValue\u001b[39m = Number(4.4250071847657715)"
      ]
     },
     "execution_count": 28,
     "metadata": {},
     "output_type": "execute_result"
    }
   ],
   "source": [
    "evalExpr(expr2, myEnvironment)"
   ]
  },
  {
   "cell_type": "code",
   "execution_count": 29,
   "metadata": {},
   "outputs": [
    {
     "data": {
      "text/plain": [
       "\u001b[36mres28\u001b[39m: \u001b[32mValue\u001b[39m = Number(6.913043478260868)"
      ]
     },
     "execution_count": 29,
     "metadata": {},
     "output_type": "execute_result"
    }
   ],
   "source": [
    "evalExpr(expr3, myEnvironment)"
   ]
  },
  {
   "cell_type": "code",
   "execution_count": 31,
   "metadata": {},
   "outputs": [
    {
     "data": {
      "text/plain": [
       "\u001b[36mexpr4\u001b[39m: \u001b[32mLog\u001b[39m = Log(Plus(List(Ident(x), Ident(y), Ident(w), Const(-18.7))))\n",
       "\u001b[36mres30_1\u001b[39m: \u001b[32mValue\u001b[39m = Error\n",
       "\u001b[36mexpr5\u001b[39m: \u001b[32mDiv\u001b[39m = Div(Const(1.0),Plus(List(Ident(x), Ident(y), Ident(w), Const(-18.7))))\n",
       "\u001b[36mres30_3\u001b[39m: \u001b[32mValue\u001b[39m = Error"
      ]
     },
     "execution_count": 31,
     "metadata": {},
     "output_type": "execute_result"
    }
   ],
   "source": [
    "val expr4 = Log(Plus(List(x, y, w, Const(-18.7))))\n",
    "evalExpr(expr4, myEnvironment)\n",
    "\n",
    "val expr5 = Div(Const(1.0), Plus(List(x, y, w, Const(-18.7))))\n",
    "evalExpr(expr5, myEnvironment)"
   ]
  }
 ],
 "metadata": {
  "kernelspec": {
   "display_name": "Scala",
   "language": "scala",
   "name": "scala"
  },
  "language_info": {
   "codemirror_mode": "text/x-scala",
   "file_extension": ".scala",
   "mimetype": "text/x-scala",
   "name": "scala211",
   "nbconvert_exporter": "script",
   "pygments_lexer": "scala",
   "version": "2.11.11"
  }
 },
 "nbformat": 4,
 "nbformat_minor": 2
}
